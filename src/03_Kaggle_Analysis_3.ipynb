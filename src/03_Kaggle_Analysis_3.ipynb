{
  "nbformat": 4,
  "nbformat_minor": 0,
  "metadata": {
    "colab": {
      "name": "03_Kaggle_Analysis_3.ipynb",
      "provenance": [],
      "collapsed_sections": [],
      "mount_file_id": "1DbQex6kwpGCCVMUBqVsSsAfRJMqZ288O",
      "authorship_tag": "ABX9TyNmS1fASNUjfF6cWb71bB/R",
      "include_colab_link": true
    },
    "kernelspec": {
      "name": "python3",
      "display_name": "Python 3"
    }
  },
  "cells": [
    {
      "cell_type": "markdown",
      "metadata": {
        "id": "view-in-github",
        "colab_type": "text"
      },
      "source": [
        "<a href=\"https://colab.research.google.com/github/ralsouza/kaggle_used_cars/blob/master/src/03_Kaggle_Analysis_3.ipynb\" target=\"_parent\"><img src=\"https://colab.research.google.com/assets/colab-badge.svg\" alt=\"Open In Colab\"/></a>"
      ]
    },
    {
      "cell_type": "markdown",
      "metadata": {
        "id": "F60NmlOboylQ",
        "colab_type": "text"
      },
      "source": [
        "# Analysis #3"
      ]
    },
    {
      "cell_type": "code",
      "metadata": {
        "id": "yNSOJzCzomaj",
        "colab_type": "code",
        "colab": {}
      },
      "source": [
        "\n",
        "# Imports\n",
        "import os\n",
        "import subprocess\n",
        "import stat\n",
        "import numpy as np\n",
        "import pandas as pd\n",
        "import seaborn as sns\n",
        "import matplotlib.pyplot as plt\n",
        "from datetime import datetime\n",
        "sns.set(style=\"white\")\n",
        "%matplotlib inline"
      ],
      "execution_count": 0,
      "outputs": []
    },
    {
      "cell_type": "code",
      "metadata": {
        "id": "8NmXrUT-o9__",
        "colab_type": "code",
        "colab": {}
      },
      "source": [
        "# Dataset\n",
        "clean_data_path = \"drive/My Drive/datasets/autos.csv\"\n",
        "df = pd.read_csv(clean_data_path,encoding=\"latin-1\")"
      ],
      "execution_count": 0,
      "outputs": []
    },
    {
      "cell_type": "code",
      "metadata": {
        "id": "izF8eXqapgtl",
        "colab_type": "code",
        "colab": {
          "base_uri": "https://localhost:8080/",
          "height": 394
        },
        "outputId": "d368da74-68a2-4604-e0f0-f3c17553ac7d"
      },
      "source": [
        "df.head()"
      ],
      "execution_count": 4,
      "outputs": [
        {
          "output_type": "execute_result",
          "data": {
            "text/html": [
              "<div>\n",
              "<style scoped>\n",
              "    .dataframe tbody tr th:only-of-type {\n",
              "        vertical-align: middle;\n",
              "    }\n",
              "\n",
              "    .dataframe tbody tr th {\n",
              "        vertical-align: top;\n",
              "    }\n",
              "\n",
              "    .dataframe thead th {\n",
              "        text-align: right;\n",
              "    }\n",
              "</style>\n",
              "<table border=\"1\" class=\"dataframe\">\n",
              "  <thead>\n",
              "    <tr style=\"text-align: right;\">\n",
              "      <th></th>\n",
              "      <th>dateCrawled</th>\n",
              "      <th>name</th>\n",
              "      <th>seller</th>\n",
              "      <th>offerType</th>\n",
              "      <th>price</th>\n",
              "      <th>abtest</th>\n",
              "      <th>vehicleType</th>\n",
              "      <th>yearOfRegistration</th>\n",
              "      <th>gearbox</th>\n",
              "      <th>powerPS</th>\n",
              "      <th>model</th>\n",
              "      <th>kilometer</th>\n",
              "      <th>monthOfRegistration</th>\n",
              "      <th>fuelType</th>\n",
              "      <th>brand</th>\n",
              "      <th>notRepairedDamage</th>\n",
              "      <th>dateCreated</th>\n",
              "      <th>postalCode</th>\n",
              "      <th>lastSeen</th>\n",
              "      <th>yearOfCreation</th>\n",
              "      <th>yearCrawled</th>\n",
              "      <th>monthOfCreation</th>\n",
              "      <th>monthCrawled</th>\n",
              "      <th>NoOfDaysOnline</th>\n",
              "      <th>NoOfHrsOnline</th>\n",
              "      <th>yearsOld</th>\n",
              "      <th>monthsOld</th>\n",
              "    </tr>\n",
              "  </thead>\n",
              "  <tbody>\n",
              "    <tr>\n",
              "      <th>0</th>\n",
              "      <td>2016-03-24 11:52:17</td>\n",
              "      <td>Golf_3_1.6</td>\n",
              "      <td>privat</td>\n",
              "      <td>Offer</td>\n",
              "      <td>480</td>\n",
              "      <td>test</td>\n",
              "      <td>Other</td>\n",
              "      <td>1993</td>\n",
              "      <td>manuell</td>\n",
              "      <td>0</td>\n",
              "      <td>golf</td>\n",
              "      <td>150000</td>\n",
              "      <td>Jan</td>\n",
              "      <td>Gasoline</td>\n",
              "      <td>volkswagen</td>\n",
              "      <td>Other</td>\n",
              "      <td>2016-03-24 00:00:00</td>\n",
              "      <td>70435</td>\n",
              "      <td>2016-04-07 03:16:57</td>\n",
              "      <td>2016</td>\n",
              "      <td>2016</td>\n",
              "      <td>March</td>\n",
              "      <td>March</td>\n",
              "      <td>14</td>\n",
              "      <td>3</td>\n",
              "      <td>23</td>\n",
              "      <td>11</td>\n",
              "    </tr>\n",
              "    <tr>\n",
              "      <th>1</th>\n",
              "      <td>2016-03-24 10:58:45</td>\n",
              "      <td>A5_Sportback_2.7_Tdi</td>\n",
              "      <td>privat</td>\n",
              "      <td>Offer</td>\n",
              "      <td>18300</td>\n",
              "      <td>test</td>\n",
              "      <td>coupe</td>\n",
              "      <td>2011</td>\n",
              "      <td>manuell</td>\n",
              "      <td>190</td>\n",
              "      <td>Other</td>\n",
              "      <td>125000</td>\n",
              "      <td>May</td>\n",
              "      <td>Diesel</td>\n",
              "      <td>audi</td>\n",
              "      <td>Yes</td>\n",
              "      <td>2016-03-24 00:00:00</td>\n",
              "      <td>66954</td>\n",
              "      <td>2016-04-07 01:46:50</td>\n",
              "      <td>2016</td>\n",
              "      <td>2016</td>\n",
              "      <td>March</td>\n",
              "      <td>March</td>\n",
              "      <td>14</td>\n",
              "      <td>1</td>\n",
              "      <td>5</td>\n",
              "      <td>7</td>\n",
              "    </tr>\n",
              "    <tr>\n",
              "      <th>2</th>\n",
              "      <td>2016-03-14 12:52:21</td>\n",
              "      <td>Jeep_Grand_Cherokee_\"Overland\"</td>\n",
              "      <td>privat</td>\n",
              "      <td>Offer</td>\n",
              "      <td>9800</td>\n",
              "      <td>test</td>\n",
              "      <td>suv</td>\n",
              "      <td>2004</td>\n",
              "      <td>automatik</td>\n",
              "      <td>163</td>\n",
              "      <td>grand</td>\n",
              "      <td>125000</td>\n",
              "      <td>Aug</td>\n",
              "      <td>Diesel</td>\n",
              "      <td>jeep</td>\n",
              "      <td>Other</td>\n",
              "      <td>2016-03-14 00:00:00</td>\n",
              "      <td>90480</td>\n",
              "      <td>2016-04-05 12:47:46</td>\n",
              "      <td>2016</td>\n",
              "      <td>2016</td>\n",
              "      <td>March</td>\n",
              "      <td>March</td>\n",
              "      <td>22</td>\n",
              "      <td>12</td>\n",
              "      <td>12</td>\n",
              "      <td>4</td>\n",
              "    </tr>\n",
              "    <tr>\n",
              "      <th>3</th>\n",
              "      <td>2016-03-17 16:54:04</td>\n",
              "      <td>GOLF_4_1_4__3TÃRER</td>\n",
              "      <td>privat</td>\n",
              "      <td>Offer</td>\n",
              "      <td>1500</td>\n",
              "      <td>test</td>\n",
              "      <td>kleinwagen</td>\n",
              "      <td>2001</td>\n",
              "      <td>manuell</td>\n",
              "      <td>75</td>\n",
              "      <td>golf</td>\n",
              "      <td>150000</td>\n",
              "      <td>Jul</td>\n",
              "      <td>Gasoline</td>\n",
              "      <td>volkswagen</td>\n",
              "      <td>No</td>\n",
              "      <td>2016-03-17 00:00:00</td>\n",
              "      <td>91074</td>\n",
              "      <td>2016-03-17 17:40:17</td>\n",
              "      <td>2016</td>\n",
              "      <td>2016</td>\n",
              "      <td>March</td>\n",
              "      <td>March</td>\n",
              "      <td>0</td>\n",
              "      <td>17</td>\n",
              "      <td>15</td>\n",
              "      <td>5</td>\n",
              "    </tr>\n",
              "    <tr>\n",
              "      <th>4</th>\n",
              "      <td>2016-03-31 17:25:20</td>\n",
              "      <td>Skoda_Fabia_1.4_TDI_PD_Classic</td>\n",
              "      <td>privat</td>\n",
              "      <td>Offer</td>\n",
              "      <td>3600</td>\n",
              "      <td>test</td>\n",
              "      <td>kleinwagen</td>\n",
              "      <td>2008</td>\n",
              "      <td>manuell</td>\n",
              "      <td>69</td>\n",
              "      <td>fabia</td>\n",
              "      <td>90000</td>\n",
              "      <td>Jul</td>\n",
              "      <td>Diesel</td>\n",
              "      <td>skoda</td>\n",
              "      <td>No</td>\n",
              "      <td>2016-03-31 00:00:00</td>\n",
              "      <td>60437</td>\n",
              "      <td>2016-04-06 10:17:21</td>\n",
              "      <td>2016</td>\n",
              "      <td>2016</td>\n",
              "      <td>March</td>\n",
              "      <td>March</td>\n",
              "      <td>6</td>\n",
              "      <td>10</td>\n",
              "      <td>8</td>\n",
              "      <td>5</td>\n",
              "    </tr>\n",
              "  </tbody>\n",
              "</table>\n",
              "</div>"
            ],
            "text/plain": [
              "           dateCrawled                            name  ... yearsOld monthsOld\n",
              "0  2016-03-24 11:52:17                      Golf_3_1.6  ...       23        11\n",
              "1  2016-03-24 10:58:45            A5_Sportback_2.7_Tdi  ...        5         7\n",
              "2  2016-03-14 12:52:21  Jeep_Grand_Cherokee_\"Overland\"  ...       12         4\n",
              "3  2016-03-17 16:54:04             GOLF_4_1_4__3TÃRER  ...       15         5\n",
              "4  2016-03-31 17:25:20  Skoda_Fabia_1.4_TDI_PD_Classic  ...        8         5\n",
              "\n",
              "[5 rows x 27 columns]"
            ]
          },
          "metadata": {
            "tags": []
          },
          "execution_count": 4
        }
      ]
    },
    {
      "cell_type": "markdown",
      "metadata": {
        "id": "FWT5pAKQpb3K",
        "colab_type": "text"
      },
      "source": [
        "### Preço médio do veículo por tipo de combustível e tipo de caixa de câmbio"
      ]
    },
    {
      "cell_type": "code",
      "metadata": {
        "id": "i0GDeibnpXfT",
        "colab_type": "code",
        "colab": {
          "base_uri": "https://localhost:8080/",
          "height": 414
        },
        "outputId": "8b1bbc9b-624d-44ef-9e8b-568df810eb1a"
      },
      "source": [
        "fig, ax = plt.subplots(figsize=(10,6))\n",
        "sns.barplot(x='fuelType',y='price',hue='gearbox',data=df)\n",
        "ax.set_title('Average of Vehicle by Fuel Type and Gearbox Type',fontdict={'size':18})\n",
        "ax.yaxis.set_label_text('Price',fontdict={'size':13})\n",
        "ax.xaxis.set_label_text('Fuel Type',fontdict={'size':13})\n",
        "plt.show()"
      ],
      "execution_count": 12,
      "outputs": [
        {
          "output_type": "display_data",
          "data": {
            "image/png": "[encoded data removed]",
            "text/plain": [
              "<Figure size 720x432 with 1 Axes>"
            ]
          },
          "metadata": {
            "tags": []
          }
        }
      ]
    },
    {
      "cell_type": "markdown",
      "metadata": {
        "id": "T_cwBel6qw9A",
        "colab_type": "text"
      },
      "source": [
        "### Potência média de um veículo por tipo de veículo e tipo de caixa de câmbio"
      ]
    },
    {
      "cell_type": "code",
      "metadata": {
        "id": "yZxwAThHqzzG",
        "colab_type": "code",
        "colab": {
          "base_uri": "https://localhost:8080/",
          "height": 414
        },
        "outputId": "9018c0e8-79e2-4d13-e71b-cbf8e8607812"
      },
      "source": [
        "# Crie um Barplot com a Potência média de um veículo por tipo de veículo e tipo de caixa de câmbio\n",
        "fig, ax = plt.subplots(figsize=(10,6))\n",
        "sns.barplot(x='vehicleType',y='powerPS',hue='gearbox',data=df)\n",
        "ax.set_title('Average Power by Vehicle Type and Gearbox',fontdict={'size':18})\n",
        "ax.yaxis.set_label_text('Power',fontdict={'size':13})\n",
        "ax.xaxis.set_label_text('Vehicle Type',fontdict={'size':13})\n",
        "plt.show()"
      ],
      "execution_count": 16,
      "outputs": [
        {
          "output_type": "display_data",
          "data": {
            "image/png": "[encoded data removed]",
            "text/plain": [
              "<Figure size 720x432 with 1 Axes>"
            ]
          },
          "metadata": {
            "tags": []
          }
        }
      ]
    }
  ]
}