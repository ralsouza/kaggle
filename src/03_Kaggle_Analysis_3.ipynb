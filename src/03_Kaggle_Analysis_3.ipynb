{
  "nbformat": 4,
  "nbformat_minor": 0,
  "metadata": {
    "colab": {
      "name": "03_Kaggle_Analysis_3.ipynb",
      "provenance": [],
      "collapsed_sections": [],
      "mount_file_id": "1DbQex6kwpGCCVMUBqVsSsAfRJMqZ288O",
      "authorship_tag": "ABX9TyOJhudEQZbq0Aeni761/gD6",
      "include_colab_link": true
    },
    "kernelspec": {
      "name": "python3",
      "display_name": "Python 3"
    }
  },
  "cells": [
    {
      "cell_type": "markdown",
      "metadata": {
        "id": "view-in-github",
        "colab_type": "text"
      },
      "source": [
        "<a href=\"https://colab.research.google.com/github/ralsouza/kaggle_used_cars/blob/master/src/03_Kaggle_Analysis_3.ipynb\" target=\"_parent\"><img src=\"https://colab.research.google.com/assets/colab-badge.svg\" alt=\"Open In Colab\"/></a>"
      ]
    },
    {
      "cell_type": "markdown",
      "metadata": {
        "id": "F60NmlOboylQ",
        "colab_type": "text"
      },
      "source": [
        "# Analysis #3"
      ]
    },
    {
      "cell_type": "code",
      "metadata": {
        "id": "yNSOJzCzomaj",
        "colab_type": "code",
        "colab": {}
      },
      "source": [
        "\n",
        "# Imports\n",
        "import os\n",
        "import subprocess\n",
        "import stat\n",
        "import numpy as np\n",
        "import pandas as pd\n",
        "import seaborn as sns\n",
        "import matplotlib.pyplot as plt\n",
        "from datetime import datetime\n",
        "sns.set(style=\"white\")\n",
        "%matplotlib inline"
      ],
      "execution_count": 0,
      "outputs": []
    },
    {
      "cell_type": "code",
      "metadata": {
        "id": "8NmXrUT-o9__",
        "colab_type": "code",
        "colab": {}
      },
      "source": [
        "# Dataset\n",
        "clean_data_path = \"drive/My Drive/dataset/autos.csv\"\n",
        "df = pd.read_csv(clean_data_path,encoding=\"latin-1\")"
      ],
      "execution_count": 0,
      "outputs": []
    },
    {
      "cell_type": "code",
      "metadata": {
        "id": "izF8eXqapgtl",
        "colab_type": "code",
        "colab": {}
      },
      "source": [
        "df.head()"
      ],
      "execution_count": 0,
      "outputs": []
    },
    {
      "cell_type": "markdown",
      "metadata": {
        "id": "FWT5pAKQpb3K",
        "colab_type": "text"
      },
      "source": [
        "### Preço médio do veículo por tipo de combustível e tipo de caixa de câmbio"
      ]
    },
    {
      "cell_type": "code",
      "metadata": {
        "id": "i0GDeibnpXfT",
        "colab_type": "code",
        "colab": {}
      },
      "source": [
        "# Crie um Barplot com o Preço médio do veículo por tipo de combustível e tipo de caixa de câmbio"
      ],
      "execution_count": 0,
      "outputs": []
    }
  ]
}