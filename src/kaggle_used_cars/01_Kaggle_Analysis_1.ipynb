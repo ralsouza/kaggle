{
  "nbformat": 4,
  "nbformat_minor": 0,
  "metadata": {
    "colab": {
      "name": "01_Kaggle_Analysis_1.ipynb",
      "provenance": [],
      "collapsed_sections": [],
      "mount_file_id": "19jD2j_qoJRI4rUaP7OjTyx_ikubXlECs",
      "authorship_tag": "ABX9TyOQex4I89YeKW6FzbfS8lLg",
      "include_colab_link": true
    },
    "kernelspec": {
      "name": "python3",
      "display_name": "Python 3"
    }
  },
  "cells": [
    {
      "cell_type": "markdown",
      "metadata": {
        "id": "view-in-github",
        "colab_type": "text"
      },
      "source": [
        "<a href=\"https://colab.research.google.com/github/ralsouza/kaggle_used_cars/blob/master/src/kaggle_used_cars/01_Kaggle_Analysis_1.ipynb\" target=\"_parent\"><img src=\"https://colab.research.google.com/assets/colab-badge.svg\" alt=\"Open In Colab\"/></a>"
      ]
    },
    {
      "cell_type": "markdown",
      "metadata": {
        "id": "nweqpcnpvDq9",
        "colab_type": "text"
      },
      "source": [
        "# Analysis 1"
      ]
    },
    {
      "cell_type": "code",
      "metadata": {
        "id": "MM5vnpnHusoD",
        "colab_type": "code",
        "colab": {}
      },
      "source": [
        "# Imports\n",
        "import os\n",
        "import subprocess\n",
        "import stat\n",
        "import numpy as np\n",
        "import pandas as pd\n",
        "import seaborn as sns\n",
        "sns.set(style=\"white\")\n",
        "import matplotlib.pyplot as plt\n",
        "%matplotlib inline\n",
        "from datetime import datetime"
      ],
      "execution_count": 0,
      "outputs": []
    },
    {
      "cell_type": "code",
      "metadata": {
        "id": "QU7t1VlDwR9z",
        "colab_type": "code",
        "colab": {}
      },
      "source": [
        "# Dataset\n",
        "clean_data_path = \"drive/My Drive/datasets/autos.csv\"\n",
        "df = pd.read_csv(clean_data_path,encoding=\"latin-1\")"
      ],
      "execution_count": 0,
      "outputs": []
    },
    {
      "cell_type": "code",
      "metadata": {
        "id": "dUOAf6sY_Wzo",
        "colab_type": "code",
        "outputId": "a97da478-bfff-481e-c914-decae76cc2d3",
        "colab": {
          "base_uri": "https://localhost:8080/",
          "height": 394
        }
      },
      "source": [
        "df.head()"
      ],
      "execution_count": 0,
      "outputs": [
        {
          "output_type": "execute_result",
          "data": {
            "text/html": [
              "<div>\n",
              "<style scoped>\n",
              "    .dataframe tbody tr th:only-of-type {\n",
              "        vertical-align: middle;\n",
              "    }\n",
              "\n",
              "    .dataframe tbody tr th {\n",
              "        vertical-align: top;\n",
              "    }\n",
              "\n",
              "    .dataframe thead th {\n",
              "        text-align: right;\n",
              "    }\n",
              "</style>\n",
              "<table border=\"1\" class=\"dataframe\">\n",
              "  <thead>\n",
              "    <tr style=\"text-align: right;\">\n",
              "      <th></th>\n",
              "      <th>dateCrawled</th>\n",
              "      <th>name</th>\n",
              "      <th>seller</th>\n",
              "      <th>offerType</th>\n",
              "      <th>price</th>\n",
              "      <th>abtest</th>\n",
              "      <th>vehicleType</th>\n",
              "      <th>yearOfRegistration</th>\n",
              "      <th>gearbox</th>\n",
              "      <th>powerPS</th>\n",
              "      <th>model</th>\n",
              "      <th>kilometer</th>\n",
              "      <th>monthOfRegistration</th>\n",
              "      <th>fuelType</th>\n",
              "      <th>brand</th>\n",
              "      <th>notRepairedDamage</th>\n",
              "      <th>dateCreated</th>\n",
              "      <th>postalCode</th>\n",
              "      <th>lastSeen</th>\n",
              "      <th>yearOfCreation</th>\n",
              "      <th>yearCrawled</th>\n",
              "      <th>monthOfCreation</th>\n",
              "      <th>monthCrawled</th>\n",
              "      <th>NoOfDaysOnline</th>\n",
              "      <th>NoOfHrsOnline</th>\n",
              "      <th>yearsOld</th>\n",
              "      <th>monthsOld</th>\n",
              "    </tr>\n",
              "  </thead>\n",
              "  <tbody>\n",
              "    <tr>\n",
              "      <th>0</th>\n",
              "      <td>2016-03-24 11:52:17</td>\n",
              "      <td>Golf_3_1.6</td>\n",
              "      <td>privat</td>\n",
              "      <td>Offer</td>\n",
              "      <td>480</td>\n",
              "      <td>test</td>\n",
              "      <td>Other</td>\n",
              "      <td>1993</td>\n",
              "      <td>manuell</td>\n",
              "      <td>0</td>\n",
              "      <td>golf</td>\n",
              "      <td>150000</td>\n",
              "      <td>Jan</td>\n",
              "      <td>Gasoline</td>\n",
              "      <td>volkswagen</td>\n",
              "      <td>Other</td>\n",
              "      <td>2016-03-24 00:00:00</td>\n",
              "      <td>70435</td>\n",
              "      <td>2016-04-07 03:16:57</td>\n",
              "      <td>2016</td>\n",
              "      <td>2016</td>\n",
              "      <td>March</td>\n",
              "      <td>March</td>\n",
              "      <td>14</td>\n",
              "      <td>3</td>\n",
              "      <td>23</td>\n",
              "      <td>11</td>\n",
              "    </tr>\n",
              "    <tr>\n",
              "      <th>1</th>\n",
              "      <td>2016-03-24 10:58:45</td>\n",
              "      <td>A5_Sportback_2.7_Tdi</td>\n",
              "      <td>privat</td>\n",
              "      <td>Offer</td>\n",
              "      <td>18300</td>\n",
              "      <td>test</td>\n",
              "      <td>coupe</td>\n",
              "      <td>2011</td>\n",
              "      <td>manuell</td>\n",
              "      <td>190</td>\n",
              "      <td>Other</td>\n",
              "      <td>125000</td>\n",
              "      <td>May</td>\n",
              "      <td>Diesel</td>\n",
              "      <td>audi</td>\n",
              "      <td>Yes</td>\n",
              "      <td>2016-03-24 00:00:00</td>\n",
              "      <td>66954</td>\n",
              "      <td>2016-04-07 01:46:50</td>\n",
              "      <td>2016</td>\n",
              "      <td>2016</td>\n",
              "      <td>March</td>\n",
              "      <td>March</td>\n",
              "      <td>14</td>\n",
              "      <td>1</td>\n",
              "      <td>5</td>\n",
              "      <td>7</td>\n",
              "    </tr>\n",
              "    <tr>\n",
              "      <th>2</th>\n",
              "      <td>2016-03-14 12:52:21</td>\n",
              "      <td>Jeep_Grand_Cherokee_\"Overland\"</td>\n",
              "      <td>privat</td>\n",
              "      <td>Offer</td>\n",
              "      <td>9800</td>\n",
              "      <td>test</td>\n",
              "      <td>suv</td>\n",
              "      <td>2004</td>\n",
              "      <td>automatik</td>\n",
              "      <td>163</td>\n",
              "      <td>grand</td>\n",
              "      <td>125000</td>\n",
              "      <td>Aug</td>\n",
              "      <td>Diesel</td>\n",
              "      <td>jeep</td>\n",
              "      <td>Other</td>\n",
              "      <td>2016-03-14 00:00:00</td>\n",
              "      <td>90480</td>\n",
              "      <td>2016-04-05 12:47:46</td>\n",
              "      <td>2016</td>\n",
              "      <td>2016</td>\n",
              "      <td>March</td>\n",
              "      <td>March</td>\n",
              "      <td>22</td>\n",
              "      <td>12</td>\n",
              "      <td>12</td>\n",
              "      <td>4</td>\n",
              "    </tr>\n",
              "    <tr>\n",
              "      <th>3</th>\n",
              "      <td>2016-03-17 16:54:04</td>\n",
              "      <td>GOLF_4_1_4__3TÃRER</td>\n",
              "      <td>privat</td>\n",
              "      <td>Offer</td>\n",
              "      <td>1500</td>\n",
              "      <td>test</td>\n",
              "      <td>kleinwagen</td>\n",
              "      <td>2001</td>\n",
              "      <td>manuell</td>\n",
              "      <td>75</td>\n",
              "      <td>golf</td>\n",
              "      <td>150000</td>\n",
              "      <td>Jul</td>\n",
              "      <td>Gasoline</td>\n",
              "      <td>volkswagen</td>\n",
              "      <td>No</td>\n",
              "      <td>2016-03-17 00:00:00</td>\n",
              "      <td>91074</td>\n",
              "      <td>2016-03-17 17:40:17</td>\n",
              "      <td>2016</td>\n",
              "      <td>2016</td>\n",
              "      <td>March</td>\n",
              "      <td>March</td>\n",
              "      <td>0</td>\n",
              "      <td>17</td>\n",
              "      <td>15</td>\n",
              "      <td>5</td>\n",
              "    </tr>\n",
              "    <tr>\n",
              "      <th>4</th>\n",
              "      <td>2016-03-31 17:25:20</td>\n",
              "      <td>Skoda_Fabia_1.4_TDI_PD_Classic</td>\n",
              "      <td>privat</td>\n",
              "      <td>Offer</td>\n",
              "      <td>3600</td>\n",
              "      <td>test</td>\n",
              "      <td>kleinwagen</td>\n",
              "      <td>2008</td>\n",
              "      <td>manuell</td>\n",
              "      <td>69</td>\n",
              "      <td>fabia</td>\n",
              "      <td>90000</td>\n",
              "      <td>Jul</td>\n",
              "      <td>Diesel</td>\n",
              "      <td>skoda</td>\n",
              "      <td>No</td>\n",
              "      <td>2016-03-31 00:00:00</td>\n",
              "      <td>60437</td>\n",
              "      <td>2016-04-06 10:17:21</td>\n",
              "      <td>2016</td>\n",
              "      <td>2016</td>\n",
              "      <td>March</td>\n",
              "      <td>March</td>\n",
              "      <td>6</td>\n",
              "      <td>10</td>\n",
              "      <td>8</td>\n",
              "      <td>5</td>\n",
              "    </tr>\n",
              "  </tbody>\n",
              "</table>\n",
              "</div>"
            ],
            "text/plain": [
              "           dateCrawled                            name  ... yearsOld monthsOld\n",
              "0  2016-03-24 11:52:17                      Golf_3_1.6  ...       23        11\n",
              "1  2016-03-24 10:58:45            A5_Sportback_2.7_Tdi  ...        5         7\n",
              "2  2016-03-14 12:52:21  Jeep_Grand_Cherokee_\"Overland\"  ...       12         4\n",
              "3  2016-03-17 16:54:04             GOLF_4_1_4__3TÃRER  ...       15         5\n",
              "4  2016-03-31 17:25:20  Skoda_Fabia_1.4_TDI_PD_Classic  ...        8         5\n",
              "\n",
              "[5 rows x 27 columns]"
            ]
          },
          "metadata": {
            "tags": []
          },
          "execution_count": 8
        }
      ]
    },
    {
      "cell_type": "code",
      "metadata": {
        "id": "PnMbtbhRH_VP",
        "colab_type": "code",
        "outputId": "d2ef86cb-48c5-437d-a016-7021adc26adf",
        "colab": {
          "base_uri": "https://localhost:8080/",
          "height": 317
        }
      },
      "source": [
        "df.describe()"
      ],
      "execution_count": 0,
      "outputs": [
        {
          "output_type": "execute_result",
          "data": {
            "text/html": [
              "<div>\n",
              "<style scoped>\n",
              "    .dataframe tbody tr th:only-of-type {\n",
              "        vertical-align: middle;\n",
              "    }\n",
              "\n",
              "    .dataframe tbody tr th {\n",
              "        vertical-align: top;\n",
              "    }\n",
              "\n",
              "    .dataframe thead th {\n",
              "        text-align: right;\n",
              "    }\n",
              "</style>\n",
              "<table border=\"1\" class=\"dataframe\">\n",
              "  <thead>\n",
              "    <tr style=\"text-align: right;\">\n",
              "      <th></th>\n",
              "      <th>price</th>\n",
              "      <th>yearOfRegistration</th>\n",
              "      <th>powerPS</th>\n",
              "      <th>kilometer</th>\n",
              "      <th>postalCode</th>\n",
              "      <th>yearOfCreation</th>\n",
              "      <th>yearCrawled</th>\n",
              "      <th>NoOfDaysOnline</th>\n",
              "      <th>NoOfHrsOnline</th>\n",
              "      <th>yearsOld</th>\n",
              "      <th>monthsOld</th>\n",
              "    </tr>\n",
              "  </thead>\n",
              "  <tbody>\n",
              "    <tr>\n",
              "      <th>count</th>\n",
              "      <td>313687.000000</td>\n",
              "      <td>313687.000000</td>\n",
              "      <td>313687.000000</td>\n",
              "      <td>313687.000000</td>\n",
              "      <td>313687.000000</td>\n",
              "      <td>313687.000000</td>\n",
              "      <td>313687.0</td>\n",
              "      <td>313687.000000</td>\n",
              "      <td>313687.000000</td>\n",
              "      <td>313687.000000</td>\n",
              "      <td>313687.000000</td>\n",
              "    </tr>\n",
              "    <tr>\n",
              "      <th>mean</th>\n",
              "      <td>3902.961863</td>\n",
              "      <td>2001.909231</td>\n",
              "      <td>109.564250</td>\n",
              "      <td>131435.778340</td>\n",
              "      <td>50349.563597</td>\n",
              "      <td>2015.999930</td>\n",
              "      <td>2016.0</td>\n",
              "      <td>8.543274</td>\n",
              "      <td>11.834207</td>\n",
              "      <td>14.090769</td>\n",
              "      <td>6.235187</td>\n",
              "    </tr>\n",
              "    <tr>\n",
              "      <th>std</th>\n",
              "      <td>4168.150636</td>\n",
              "      <td>6.803211</td>\n",
              "      <td>191.741685</td>\n",
              "      <td>34963.149957</td>\n",
              "      <td>25765.545682</td>\n",
              "      <td>0.008374</td>\n",
              "      <td>0.0</td>\n",
              "      <td>8.511917</td>\n",
              "      <td>6.504730</td>\n",
              "      <td>6.803211</td>\n",
              "      <td>3.454766</td>\n",
              "    </tr>\n",
              "    <tr>\n",
              "      <th>min</th>\n",
              "      <td>0.000000</td>\n",
              "      <td>1910.000000</td>\n",
              "      <td>0.000000</td>\n",
              "      <td>5000.000000</td>\n",
              "      <td>1067.000000</td>\n",
              "      <td>2015.000000</td>\n",
              "      <td>2016.0</td>\n",
              "      <td>0.000000</td>\n",
              "      <td>0.000000</td>\n",
              "      <td>0.000000</td>\n",
              "      <td>1.000000</td>\n",
              "    </tr>\n",
              "    <tr>\n",
              "      <th>25%</th>\n",
              "      <td>999.000000</td>\n",
              "      <td>1998.000000</td>\n",
              "      <td>68.000000</td>\n",
              "      <td>125000.000000</td>\n",
              "      <td>29640.000000</td>\n",
              "      <td>2016.000000</td>\n",
              "      <td>2016.0</td>\n",
              "      <td>2.000000</td>\n",
              "      <td>7.000000</td>\n",
              "      <td>10.000000</td>\n",
              "      <td>3.000000</td>\n",
              "    </tr>\n",
              "    <tr>\n",
              "      <th>50%</th>\n",
              "      <td>2490.000000</td>\n",
              "      <td>2002.000000</td>\n",
              "      <td>104.000000</td>\n",
              "      <td>150000.000000</td>\n",
              "      <td>49205.000000</td>\n",
              "      <td>2016.000000</td>\n",
              "      <td>2016.0</td>\n",
              "      <td>6.000000</td>\n",
              "      <td>12.000000</td>\n",
              "      <td>14.000000</td>\n",
              "      <td>6.000000</td>\n",
              "    </tr>\n",
              "    <tr>\n",
              "      <th>75%</th>\n",
              "      <td>5400.000000</td>\n",
              "      <td>2006.000000</td>\n",
              "      <td>140.000000</td>\n",
              "      <td>150000.000000</td>\n",
              "      <td>70794.000000</td>\n",
              "      <td>2016.000000</td>\n",
              "      <td>2016.0</td>\n",
              "      <td>13.000000</td>\n",
              "      <td>17.000000</td>\n",
              "      <td>18.000000</td>\n",
              "      <td>9.000000</td>\n",
              "    </tr>\n",
              "    <tr>\n",
              "      <th>max</th>\n",
              "      <td>28800.000000</td>\n",
              "      <td>2016.000000</td>\n",
              "      <td>20000.000000</td>\n",
              "      <td>150000.000000</td>\n",
              "      <td>99998.000000</td>\n",
              "      <td>2016.000000</td>\n",
              "      <td>2016.0</td>\n",
              "      <td>384.000000</td>\n",
              "      <td>23.000000</td>\n",
              "      <td>106.000000</td>\n",
              "      <td>11.000000</td>\n",
              "    </tr>\n",
              "  </tbody>\n",
              "</table>\n",
              "</div>"
            ],
            "text/plain": [
              "               price  yearOfRegistration  ...       yearsOld      monthsOld\n",
              "count  313687.000000       313687.000000  ...  313687.000000  313687.000000\n",
              "mean     3902.961863         2001.909231  ...      14.090769       6.235187\n",
              "std      4168.150636            6.803211  ...       6.803211       3.454766\n",
              "min         0.000000         1910.000000  ...       0.000000       1.000000\n",
              "25%       999.000000         1998.000000  ...      10.000000       3.000000\n",
              "50%      2490.000000         2002.000000  ...      14.000000       6.000000\n",
              "75%      5400.000000         2006.000000  ...      18.000000       9.000000\n",
              "max     28800.000000         2016.000000  ...     106.000000      11.000000\n",
              "\n",
              "[8 rows x 11 columns]"
            ]
          },
          "metadata": {
            "tags": []
          },
          "execution_count": 27
        }
      ]
    },
    {
      "cell_type": "markdown",
      "metadata": {
        "id": "bPHvxOezAwgm",
        "colab_type": "text"
      },
      "source": [
        "### Distribuição de Veículos com base no Ano de Registro"
      ]
    },
    {
      "cell_type": "code",
      "metadata": {
        "id": "FLUDHkmpAQA0",
        "colab_type": "code",
        "outputId": "31faf2d9-e5d2-4df2-9fa9-795181b4a596",
        "colab": {
          "base_uri": "https://localhost:8080/",
          "height": 579
        }
      },
      "source": [
        "# https://seaborn.pydata.org/tutorial/distributions.html\n",
        "plt.figure(figsize=(12,8),dpi=80)\n",
        "sns.distplot(df['yearOfRegistration'],kde=True)\n",
        "plt.title('Distribuition of Vehicles by - Year of Registration',fontsize=18)\n",
        "plt.ylabel('Density (KDE)',fontsize=13)\n",
        "plt.xlabel('Year of Registration',fontsize=13)\n",
        "plt.show()"
      ],
      "execution_count": 0,
      "outputs": [
        {
          "output_type": "display_data",
          "data": {
            "image/png": "[encoded data removed]",
            "text/plain": [
              "<Figure size 960x640 with 1 Axes>"
            ]
          },
          "metadata": {
            "tags": []
          }
        }
      ]
    },
    {
      "cell_type": "markdown",
      "metadata": {
        "id": "4HqrS38DaISH",
        "colab_type": "text"
      },
      "source": [
        "### Variação da faixa de preço pelo tipo de veículo"
      ]
    },
    {
      "cell_type": "code",
      "metadata": {
        "id": "Gi90j8baaKCT",
        "colab_type": "code",
        "colab": {
          "base_uri": "https://localhost:8080/",
          "height": 579
        },
        "outputId": "8458774f-9ea2-468e-970e-067af16fb47e"
      },
      "source": [
        "plt.figure(figsize=(12,8),dpi=80)\n",
        "sns.boxplot(y=df['price'],x=df['vehicleType'])\n",
        "plt.title('Price Variation by Vehicle Type',fontsize=18)\n",
        "plt.ylabel('Price',fontsize=13)\n",
        "plt.xlabel('Vehicle Type',fontsize=13)\n",
        "plt.show()"
      ],
      "execution_count": 13,
      "outputs": [
        {
          "output_type": "display_data",
          "data": {
            "image/png": "[encoded data removed]",
            "text/plain": [
              "<Figure size 960x640 with 1 Axes>"
            ]
          },
          "metadata": {
            "tags": []
          }
        }
      ]
    },
    {
      "cell_type": "markdown",
      "metadata": {
        "id": "acXDavbthejg",
        "colab_type": "text"
      },
      "source": [
        "### Contagem total de veículos à venda conforme o tipo de veículo"
      ]
    },
    {
      "cell_type": "code",
      "metadata": {
        "id": "1j67-ZCOhhO2",
        "colab_type": "code",
        "colab": {
          "base_uri": "https://localhost:8080/",
          "height": 579
        },
        "outputId": "ab0b88dd-52e5-4964-96b5-14c6f698c345"
      },
      "source": [
        "# Crie um Count Plot que mostre o número de veículos pertencentes a cada categoria\n",
        "plt.figure(figsize=(12,8),dpi=80)\n",
        "sns.countplot(df['vehicleType'])\n",
        "plt.title('Total Vehicle Count on Sale by Vehicle Type',fontsize=18)\n",
        "plt.ylabel('Count of vehicles on Sale',fontsize=13)\n",
        "plt.xlabel('Vehicle Type',fontsize=13)\n",
        "plt.show()"
      ],
      "execution_count": 22,
      "outputs": [
        {
          "output_type": "display_data",
          "data": {
            "image/png": "[encoded data removed]",
            "text/plain": [
              "<Figure size 960x640 with 1 Axes>"
            ]
          },
          "metadata": {
            "tags": []
          }
        }
      ]
    },
    {
      "cell_type": "code",
      "metadata": {
        "id": "pZ2nLq7diPqW",
        "colab_type": "code",
        "colab": {}
      },
      "source": [
        "\n"
      ],
      "execution_count": 0,
      "outputs": []
    }
  ]
}